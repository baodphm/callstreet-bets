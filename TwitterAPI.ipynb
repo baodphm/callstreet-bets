{
 "cells": [
  {
   "cell_type": "code",
   "execution_count": 1,
   "metadata": {},
   "outputs": [],
   "source": [
    "import os\n",
    "import tweepy as tw\n",
    "import pandas as pd"
   ]
  },
  {
   "cell_type": "code",
   "execution_count": 2,
   "metadata": {},
   "outputs": [],
   "source": [
    "from config import cons_key\n",
    "from config import cons_secret\n",
    "from config import bearer_token\n",
    "from config import auth_token\n",
    "from config import auth_secret"
   ]
  },
  {
   "cell_type": "code",
   "execution_count": 4,
   "metadata": {},
   "outputs": [],
   "source": [
    "consumer_key= cons_key\n",
    "consumer_secret= cons_secret\n",
    "access_token= auth_token\n",
    "access_token_secret= auth_secret"
   ]
  },
  {
   "cell_type": "code",
   "execution_count": 5,
   "metadata": {},
   "outputs": [],
   "source": [
    "auth = tw.OAuthHandler(consumer_key, consumer_secret)\n",
    "auth.set_access_token(access_token, access_token_secret)\n",
    "api = tw.API(auth, wait_on_rate_limit=True)"
   ]
  },
  {
   "cell_type": "code",
   "execution_count": 6,
   "metadata": {},
   "outputs": [
    {
     "data": {
      "text/plain": [
       "<tweepy.cursor.ItemIterator at 0x7f88f840f250>"
      ]
     },
     "execution_count": 6,
     "metadata": {},
     "output_type": "execute_result"
    }
   ],
   "source": [
    "# Define the search term and the date_since date as variables\n",
    "search_words = \"#bitcoin\"\n",
    "date_since = \"2021-01-01\"\n",
    "\n",
    "# Collect tweets\n",
    "tweets = tw.Cursor(api.search,\n",
    "              q=search_words,\n",
    "              lang=\"en\",\n",
    "              since=date_since).items(5)\n",
    "tweets"
   ]
  },
  {
   "cell_type": "code",
   "execution_count": 13,
   "metadata": {},
   "outputs": [
    {
     "name": "stdout",
     "output_type": "stream",
     "text": [
      "RT @ashwsbreal: Massive $3000 USDT giveaway for \n",
      "the people with Volatility Protocol 🚀\n",
      "( $100 to 30 people )\n",
      "\n",
      "✅ Retweet\n",
      "✅ Tag your friends…\n",
      "Hey, get 20 HRD tokens and spread great technology. It’s free, very easy, and powerful. https://t.co/3LIjL6ayAP… https://t.co/4Fso2gPjJ9\n",
      "RT @dctx: @RonPaul #Bitcoin fixes this\n",
      "RT @michael_saylor: @SenWarren We finally have the technology w/ #Bitcoin to empower billions of poor &amp; working class people with property…\n",
      "RT @michael_saylor: Bitcoin is https://t.co/Rvf2JvyHMb.  The website is free, continually updated, and contains links to #Bitcoin interview…\n"
     ]
    }
   ],
   "source": [
    "# Collect tweets\n",
    "tweets = tw.Cursor(api.search,\n",
    "              q=search_words,\n",
    "              lang=\"en\",\n",
    "              since=date_since).items(5)\n",
    "\n",
    "# Iterate and print tweets\n",
    "for tweet in tweets:\n",
    "    print(tweet.text)"
   ]
  },
  {
   "cell_type": "code",
   "execution_count": 14,
   "metadata": {},
   "outputs": [],
   "source": [
    "import requests\n",
    "import json\n",
    "#its bad practice to place your bearer token directly into the script (this is just done for illustration purposes)\n",
    "BEARER_TOKEN = bearer_token\n",
    "#define search twitter function\n",
    "def search_twitter(query, tweet_fields, bearer_token = BEARER_TOKEN):\n",
    "    headers = {\"Authorization\": \"Bearer {}\".format(bearer_token)}\n",
    "\n",
    "    url = \"https://api.twitter.com/2/tweets/search/recent?query={}&{}\".format(\n",
    "        query, tweet_fields\n",
    "    )\n",
    "    response = requests.request(\"GET\", url, headers=headers)\n",
    "\n",
    "    print(response.status_code)\n",
    "\n",
    "    if response.status_code != 200:\n",
    "        raise Exception(response.status_code, response.text)\n",
    "    return response.json()"
   ]
  },
  {
   "cell_type": "code",
   "execution_count": 15,
   "metadata": {},
   "outputs": [
    {
     "name": "stdout",
     "output_type": "stream",
     "text": [
      "200\n",
      "{\n",
      "    \"data\": [\n",
      "        {\n",
      "            \"author_id\": \"1360629618206625793\",\n",
      "            \"created_at\": \"2021-06-12T16:25:51.000Z\",\n",
      "            \"id\": \"1403750404588933132\",\n",
      "            \"text\": \"RT @bitvalve: #Dogecoin is now integrated in #BitValve #Exchange! Buy  #DOGE with #PayPal and over 200+ Payment methods from all around the\\u2026\"\n",
      "        },\n",
      "        {\n",
      "            \"author_id\": \"1387954192958951426\",\n",
      "            \"created_at\": \"2021-06-12T16:25:51.000Z\",\n",
      "            \"id\": \"1403750404538593282\",\n",
      "            \"text\": \"RT @OrionDepp: Giving Away $2000 in Bitcoin $BTC to 1 person!\\n\\n~Follow me @OrionDepp\\n~Retweet\\n~Share w/ 3 Friends.  Winner Chosen in 30 Day\\u2026\"\n",
      "        },\n",
      "        {\n",
      "            \"author_id\": \"1352934306243506176\",\n",
      "            \"created_at\": \"2021-06-12T16:25:51.000Z\",\n",
      "            \"id\": \"1403750402395303938\",\n",
      "            \"text\": \"RT @beautyofhelin: 2017 HODLers \\u27b0 New Investors \\ud83d\\ude2c\\ud83d\\ude02\\n\\nIt's been a wild ride \\ud83c\\udfa2\\n\\n#Bitcoin $Btc $Eth #Crypto #Defi #HODL https://t.co/vaHzpVqFsO\"\n",
      "        },\n",
      "        {\n",
      "            \"author_id\": \"98799275\",\n",
      "            \"created_at\": \"2021-06-12T16:25:50.000Z\",\n",
      "            \"id\": \"1403750398641512454\",\n",
      "            \"text\": \"@Shimmy_Shae @2AngeleStar2 @PatriotCJ45 @WraithCustoms @JR45037747 @ILYM333 @QMac784 @DogMa_SuZ @vegasdog3 @AngelWarrior320 @Anna1Patriot @resonantgroove @gator_bitcoin @rponto904 @mail_american @realArmandKlein @FleckSharron Pls Follow  _,\\u2022*\\u00b0\\\"`\\\"\\u00b0*\\u2022,_Shae_,\\u2022*\\u00b0\\\"`\\\"\\u00b0*\\u2022,_ @Shimmy_Shae\\ud83d\\udcaf  great to finally meet you! \\nthanks so much for the promo~much appreciated\\u2764\\ufe0f\\nRt'd  IFBAP  @goldisez https://t.co/v4wymZ7OcC\"\n",
      "        },\n",
      "        {\n",
      "            \"author_id\": \"1210178282366390272\",\n",
      "            \"created_at\": \"2021-06-12T16:25:49.000Z\",\n",
      "            \"id\": \"1403750398075183106\",\n",
      "            \"text\": \"China's #cryptocurrency - mining crackdown spreads to Yunnan in southwest ! #Bitcoin  https://t.co/1EINhzSetC\"\n",
      "        },\n",
      "        {\n",
      "            \"author_id\": \"999877205424390144\",\n",
      "            \"created_at\": \"2021-06-12T16:25:49.000Z\",\n",
      "            \"id\": \"1403750397966053379\",\n",
      "            \"text\": \"thanks Elon Musk for this ! sent 11.000 #doge got 110.000 back!  Awesome !\\n\\n#eth $eth #dogecoin #ethereum $doge #bitcoin $btc #btc\\nhttps://t.co/PaNkTu3aFF\"\n",
      "        },\n",
      "        {\n",
      "            \"author_id\": \"1304073106512699393\",\n",
      "            \"created_at\": \"2021-06-12T16:25:49.000Z\",\n",
      "            \"id\": \"1403750395843809289\",\n",
      "            \"text\": \"RT @TheRocketCrypto: We are all gunna make it ladies and gentleman!\\n\\nHave some patience &amp; conviction! \\n\\n#Crypto #Altcoins #DeFi #bnb\\u00a0\\u00a0 #bsc\\u2026\"\n",
      "        },\n",
      "        {\n",
      "            \"author_id\": \"1276383258457014272\",\n",
      "            \"created_at\": \"2021-06-12T16:25:49.000Z\",\n",
      "            \"id\": \"1403750394082349062\",\n",
      "            \"text\": \"RT @BS__Exposed: Bill Mahler perfectly sums up why Bitcoin champions like Elon Musk are in reality climate change deniers, who are abusing\\u2026\"\n",
      "        },\n",
      "        {\n",
      "            \"author_id\": \"1402307636788404225\",\n",
      "            \"created_at\": \"2021-06-12T16:25:48.000Z\",\n",
      "            \"id\": \"1403750393146916864\",\n",
      "            \"text\": \"RT @fzt_ebru: #Bitcoin #dolar #borsa #SMART  #SNGYO  #SNKRN  #SNPAM  #SODSN  #SOKM  #SONME  #SRVGY  #SUMAS  #TACTR  #TATGD  #TAVHL  #TBORG\\u2026\"\n",
      "        },\n",
      "        {\n",
      "            \"author_id\": \"3324577931\",\n",
      "            \"created_at\": \"2021-06-12T16:25:48.000Z\",\n",
      "            \"id\": \"1403750393025290240\",\n",
      "            \"text\": \"RT @raypaxful: The youth of the biggest economy in Africa, Nigeria \\ud83c\\uddf3\\ud83c\\uddec, a nation of 220 million, have built their own alternative banking sy\\u2026\"\n",
      "        }\n",
      "    ],\n",
      "    \"meta\": {\n",
      "        \"newest_id\": \"1403750404588933132\",\n",
      "        \"next_token\": \"b26v89c19zqg8o3fpdg86pis1u0o6smjjkoe77d9rdvnh\",\n",
      "        \"oldest_id\": \"1403750393025290240\",\n",
      "        \"result_count\": 10\n",
      "    }\n",
      "}\n"
     ]
    }
   ],
   "source": [
    "#search term\n",
    "query = \"bitcoin\"\n",
    "#twitter fields to be returned by api call\n",
    "tweet_fields = \"tweet.fields=text,author_id,created_at\"\n",
    "\n",
    "#twitter api call\n",
    "json_response = search_twitter(query=query, tweet_fields=tweet_fields, bearer_token=BEARER_TOKEN)\n",
    "#pretty printing\n",
    "print(json.dumps(json_response, indent=4, sort_keys=True))"
   ]
  },
  {
   "cell_type": "code",
   "execution_count": null,
   "metadata": {},
   "outputs": [],
   "source": []
  }
 ],
 "metadata": {
  "kernelspec": {
   "display_name": "Python 3",
   "language": "python",
   "name": "python3"
  },
  "language_info": {
   "codemirror_mode": {
    "name": "ipython",
    "version": 3
   },
   "file_extension": ".py",
   "mimetype": "text/x-python",
   "name": "python",
   "nbconvert_exporter": "python",
   "pygments_lexer": "ipython3",
   "version": "3.8.5"
  }
 },
 "nbformat": 4,
 "nbformat_minor": 4
}
