{
 "cells": [
  {
   "cell_type": "code",
   "execution_count": 1,
   "metadata": {},
   "outputs": [],
   "source": [
    "from sklearn.model_selection import train_test_split\n",
    "from sklearn.tree import DecisionTreeRegressor\n",
    "import matplotlib.pyplot as plt\n",
    "import seaborn as sns\n",
    "import pandas as pd\n",
    "import numpy as np\n",
    "import joblib\n",
    "import csv"
   ]
  },
  {
   "cell_type": "code",
   "execution_count": 2,
   "metadata": {},
   "outputs": [
    {
     "data": {
      "text/html": [
       "<div>\n",
       "<style scoped>\n",
       "    .dataframe tbody tr th:only-of-type {\n",
       "        vertical-align: middle;\n",
       "    }\n",
       "\n",
       "    .dataframe tbody tr th {\n",
       "        vertical-align: top;\n",
       "    }\n",
       "\n",
       "    .dataframe thead th {\n",
       "        text-align: right;\n",
       "    }\n",
       "</style>\n",
       "<table border=\"1\" class=\"dataframe\">\n",
       "  <thead>\n",
       "    <tr style=\"text-align: right;\">\n",
       "      <th></th>\n",
       "      <th>Date</th>\n",
       "      <th>ticker</th>\n",
       "      <th>mention_count</th>\n",
       "      <th>percent_change</th>\n",
       "    </tr>\n",
       "  </thead>\n",
       "  <tbody>\n",
       "    <tr>\n",
       "      <th>0</th>\n",
       "      <td>2021-01-28</td>\n",
       "      <td>AMC</td>\n",
       "      <td>214.0</td>\n",
       "      <td>0.0</td>\n",
       "    </tr>\n",
       "    <tr>\n",
       "      <th>1</th>\n",
       "      <td>2021-01-28</td>\n",
       "      <td>BB</td>\n",
       "      <td>123.0</td>\n",
       "      <td>0.0</td>\n",
       "    </tr>\n",
       "    <tr>\n",
       "      <th>2</th>\n",
       "      <td>2021-01-28</td>\n",
       "      <td>CLF</td>\n",
       "      <td>0.0</td>\n",
       "      <td>0.0</td>\n",
       "    </tr>\n",
       "    <tr>\n",
       "      <th>3</th>\n",
       "      <td>2021-01-28</td>\n",
       "      <td>CLNE</td>\n",
       "      <td>0.0</td>\n",
       "      <td>0.0</td>\n",
       "    </tr>\n",
       "    <tr>\n",
       "      <th>4</th>\n",
       "      <td>2021-01-28</td>\n",
       "      <td>CLOV</td>\n",
       "      <td>1.0</td>\n",
       "      <td>0.0</td>\n",
       "    </tr>\n",
       "  </tbody>\n",
       "</table>\n",
       "</div>"
      ],
      "text/plain": [
       "         Date ticker  mention_count  percent_change\n",
       "0  2021-01-28    AMC          214.0             0.0\n",
       "1  2021-01-28     BB          123.0             0.0\n",
       "2  2021-01-28    CLF            0.0             0.0\n",
       "3  2021-01-28   CLNE            0.0             0.0\n",
       "4  2021-01-28   CLOV            1.0             0.0"
      ]
     },
     "execution_count": 2,
     "metadata": {},
     "output_type": "execute_result"
    }
   ],
   "source": [
    "csvfile = '../Resources/Callstreet_Bets.csv'\n",
    "data = pd.read_csv(csvfile)\n",
    "data = data.fillna(0)\n",
    "data.head()"
   ]
  },
  {
   "cell_type": "code",
   "execution_count": 3,
   "metadata": {},
   "outputs": [],
   "source": [
    "df_10_or_more_mentions = data[data['mention_count'] >= 10]"
   ]
  },
  {
   "cell_type": "code",
   "execution_count": 4,
   "metadata": {},
   "outputs": [
    {
     "data": {
      "text/html": [
       "<div>\n",
       "<style scoped>\n",
       "    .dataframe tbody tr th:only-of-type {\n",
       "        vertical-align: middle;\n",
       "    }\n",
       "\n",
       "    .dataframe tbody tr th {\n",
       "        vertical-align: top;\n",
       "    }\n",
       "\n",
       "    .dataframe thead th {\n",
       "        text-align: right;\n",
       "    }\n",
       "</style>\n",
       "<table border=\"1\" class=\"dataframe\">\n",
       "  <thead>\n",
       "    <tr style=\"text-align: right;\">\n",
       "      <th></th>\n",
       "      <th>Date</th>\n",
       "      <th>ticker</th>\n",
       "      <th>mention_count</th>\n",
       "      <th>percent_change</th>\n",
       "    </tr>\n",
       "  </thead>\n",
       "  <tbody>\n",
       "    <tr>\n",
       "      <th>0</th>\n",
       "      <td>2021-01-28</td>\n",
       "      <td>AMC</td>\n",
       "      <td>214.0</td>\n",
       "      <td>0.000000</td>\n",
       "    </tr>\n",
       "    <tr>\n",
       "      <th>1</th>\n",
       "      <td>2021-01-28</td>\n",
       "      <td>BB</td>\n",
       "      <td>123.0</td>\n",
       "      <td>0.000000</td>\n",
       "    </tr>\n",
       "    <tr>\n",
       "      <th>6</th>\n",
       "      <td>2021-01-28</td>\n",
       "      <td>GME</td>\n",
       "      <td>419.0</td>\n",
       "      <td>0.000000</td>\n",
       "    </tr>\n",
       "    <tr>\n",
       "      <th>9</th>\n",
       "      <td>2021-01-28</td>\n",
       "      <td>SENS</td>\n",
       "      <td>11.0</td>\n",
       "      <td>0.000000</td>\n",
       "    </tr>\n",
       "    <tr>\n",
       "      <th>12</th>\n",
       "      <td>2021-01-29</td>\n",
       "      <td>AMC</td>\n",
       "      <td>2276.0</td>\n",
       "      <td>0.429507</td>\n",
       "    </tr>\n",
       "  </tbody>\n",
       "</table>\n",
       "</div>"
      ],
      "text/plain": [
       "          Date ticker  mention_count  percent_change\n",
       "0   2021-01-28    AMC          214.0        0.000000\n",
       "1   2021-01-28     BB          123.0        0.000000\n",
       "6   2021-01-28    GME          419.0        0.000000\n",
       "9   2021-01-28   SENS           11.0        0.000000\n",
       "12  2021-01-29    AMC         2276.0        0.429507"
      ]
     },
     "execution_count": 4,
     "metadata": {},
     "output_type": "execute_result"
    }
   ],
   "source": [
    "df_10_or_more_mentions.head()"
   ]
  },
  {
   "cell_type": "code",
   "execution_count": 5,
   "metadata": {},
   "outputs": [],
   "source": [
    "X = df_10_or_more_mentions['mention_count'].values.reshape(-1, 1)\n",
    "y = df_10_or_more_mentions['percent_change'].values.reshape(-1, 1)"
   ]
  },
  {
   "cell_type": "code",
   "execution_count": 6,
   "metadata": {},
   "outputs": [
    {
     "name": "stderr",
     "output_type": "stream",
     "text": [
      "/Users/tiffanyharris/opt/anaconda3/lib/python3.8/site-packages/seaborn/distributions.py:2551: FutureWarning: `distplot` is a deprecated function and will be removed in a future version. Please adapt your code to use either `displot` (a figure-level function with similar flexibility) or `histplot` (an axes-level function for histograms).\n",
      "  warnings.warn(msg, FutureWarning)\n"
     ]
    },
    {
     "data": {
      "text/plain": [
       "<AxesSubplot:ylabel='Density'>"
      ]
     },
     "execution_count": 6,
     "metadata": {},
     "output_type": "execute_result"
    },
    {
     "data": {
      "image/png": "[encoded data removed]",
      "text/plain": [
       "<Figure size 432x288 with 1 Axes>"
      ]
     },
     "metadata": {
      "needs_background": "light"
     },
     "output_type": "display_data"
    }
   ],
   "source": [
    "sns.distplot(X[X < 50])"
   ]
  },
  {
   "cell_type": "code",
   "execution_count": 7,
   "metadata": {},
   "outputs": [
    {
     "name": "stdout",
     "output_type": "stream",
     "text": [
      "264\n"
     ]
    }
   ],
   "source": [
    "print(len(X))"
   ]
  },
  {
   "cell_type": "code",
   "execution_count": 8,
   "metadata": {},
   "outputs": [
    {
     "data": {
      "text/plain": [
       "<AxesSubplot:xlabel='mention_count', ylabel='percent_change'>"
      ]
     },
     "execution_count": 8,
     "metadata": {},
     "output_type": "execute_result"
    },
    {
     "data": {
      "image/png": "[encoded data removed]",
      "text/plain": [
       "<Figure size 432x288 with 1 Axes>"
      ]
     },
     "metadata": {
      "needs_background": "light"
     },
     "output_type": "display_data"
    }
   ],
   "source": [
    "sns.scatterplot(x = 'mention_count', y = 'percent_change', data = df_10_or_more_mentions[df_10_or_more_mentions['mention_count'] < 30])"
   ]
  },
  {
   "cell_type": "code",
   "execution_count": 9,
   "metadata": {},
   "outputs": [],
   "source": [
    "x_train, x_test, y_train, y_test = train_test_split(X, y, random_state=4, test_size=0.33)"
   ]
  },
  {
   "cell_type": "code",
   "execution_count": 10,
   "metadata": {},
   "outputs": [
    {
     "data": {
      "text/plain": [
       "array([[  17.],\n",
       "       [  16.],\n",
       "       [  10.],\n",
       "       [  19.],\n",
       "       [  18.],\n",
       "       [ 177.],\n",
       "       [  10.],\n",
       "       [  97.],\n",
       "       [  13.],\n",
       "       [ 168.],\n",
       "       [  38.],\n",
       "       [  13.],\n",
       "       [  11.],\n",
       "       [  15.],\n",
       "       [  60.],\n",
       "       [ 275.],\n",
       "       [  16.],\n",
       "       [ 171.],\n",
       "       [  13.],\n",
       "       [  16.],\n",
       "       [  16.],\n",
       "       [ 192.],\n",
       "       [  12.],\n",
       "       [  36.],\n",
       "       [  11.],\n",
       "       [  33.],\n",
       "       [  11.],\n",
       "       [ 109.],\n",
       "       [  17.],\n",
       "       [  42.],\n",
       "       [  11.],\n",
       "       [  46.],\n",
       "       [  19.],\n",
       "       [  16.],\n",
       "       [  16.],\n",
       "       [  48.],\n",
       "       [  12.],\n",
       "       [  27.],\n",
       "       [  18.],\n",
       "       [ 106.],\n",
       "       [  11.],\n",
       "       [  19.],\n",
       "       [  85.],\n",
       "       [1280.],\n",
       "       [1256.],\n",
       "       [  23.],\n",
       "       [  10.],\n",
       "       [  27.],\n",
       "       [  13.],\n",
       "       [  33.],\n",
       "       [  12.],\n",
       "       [  11.],\n",
       "       [  46.],\n",
       "       [  20.],\n",
       "       [  21.],\n",
       "       [ 123.],\n",
       "       [  29.],\n",
       "       [  13.],\n",
       "       [  19.],\n",
       "       [  45.],\n",
       "       [  25.],\n",
       "       [  20.],\n",
       "       [  31.],\n",
       "       [  38.],\n",
       "       [  15.],\n",
       "       [  57.],\n",
       "       [  49.],\n",
       "       [  41.],\n",
       "       [  11.],\n",
       "       [  14.],\n",
       "       [  23.],\n",
       "       [  13.],\n",
       "       [  31.],\n",
       "       [  11.],\n",
       "       [  11.],\n",
       "       [  23.],\n",
       "       [  22.],\n",
       "       [  95.],\n",
       "       [  12.],\n",
       "       [  12.],\n",
       "       [  46.],\n",
       "       [  78.],\n",
       "       [  16.],\n",
       "       [  22.],\n",
       "       [  31.],\n",
       "       [  13.],\n",
       "       [  13.],\n",
       "       [  14.]])"
      ]
     },
     "execution_count": 10,
     "metadata": {},
     "output_type": "execute_result"
    }
   ],
   "source": [
    "x_test"
   ]
  },
  {
   "cell_type": "code",
   "execution_count": 11,
   "metadata": {},
   "outputs": [
    {
     "data": {
      "text/plain": [
       "array([[ 0.00000000e+00],\n",
       "       [-8.12826470e-02],\n",
       "       [-3.50913198e-02],\n",
       "       [-6.15645321e-02],\n",
       "       [-2.82368915e-02],\n",
       "       [ 1.80498248e-02],\n",
       "       [ 6.06968245e-02],\n",
       "       [-6.77486597e-02],\n",
       "       [-6.70057343e-02],\n",
       "       [-7.24557221e-02],\n",
       "       [-5.31079473e-01],\n",
       "       [-2.76783957e-02],\n",
       "       [ 0.00000000e+00],\n",
       "       [-2.56292856e-02],\n",
       "       [ 8.47652763e-02],\n",
       "       [-1.21353839e-01],\n",
       "       [-9.16290732e-01],\n",
       "       [ 0.00000000e+00],\n",
       "       [ 8.78858635e-02],\n",
       "       [ 4.23255099e-01],\n",
       "       [ 1.61755225e-01],\n",
       "       [ 5.54017525e-03],\n",
       "       [ 2.64255672e-02],\n",
       "       [-3.95538481e-01],\n",
       "       [-2.55332371e-02],\n",
       "       [-3.82654850e-02],\n",
       "       [-9.21249604e-02],\n",
       "       [ 1.06275452e-01],\n",
       "       [ 2.35754711e-02],\n",
       "       [ 1.66486461e-01],\n",
       "       [ 1.26484109e-01],\n",
       "       [ 0.00000000e+00],\n",
       "       [-1.10133693e-02],\n",
       "       [ 7.84730285e-03],\n",
       "       [ 1.24224886e-02],\n",
       "       [ 1.43266434e-01],\n",
       "       [ 1.70236361e-01],\n",
       "       [ 6.37178464e-02],\n",
       "       [ 1.44891391e-01],\n",
       "       [ 0.00000000e+00],\n",
       "       [-3.60344599e-02],\n",
       "       [ 2.95709156e-02],\n",
       "       [-2.95505144e-02],\n",
       "       [-7.51695550e-02],\n",
       "       [ 2.30143991e-03],\n",
       "       [ 3.01204755e-03],\n",
       "       [ 5.18030976e-01],\n",
       "       [-7.56842454e-02],\n",
       "       [ 1.02084176e-01],\n",
       "       [ 1.78854296e-02],\n",
       "       [ 8.73367148e-03],\n",
       "       [ 0.00000000e+00],\n",
       "       [ 1.81400389e-01],\n",
       "       [-4.96058607e-02],\n",
       "       [-2.76108088e-02],\n",
       "       [ 3.42238398e-02],\n",
       "       [-1.12494355e-02],\n",
       "       [-2.17399655e-02],\n",
       "       [-2.92857014e-02],\n",
       "       [-6.29138415e-02],\n",
       "       [ 4.71941631e-02],\n",
       "       [-1.10498781e-02],\n",
       "       [ 1.45140288e-02],\n",
       "       [ 9.98006567e-03],\n",
       "       [ 2.48762042e-03],\n",
       "       [ 9.00297291e-02],\n",
       "       [-3.20487073e-02],\n",
       "       [ 1.26651308e-01],\n",
       "       [ 4.95232399e-02],\n",
       "       [ 1.41643018e-01],\n",
       "       [ 2.51221531e-02],\n",
       "       [-9.48213314e-02],\n",
       "       [-2.35200344e-01],\n",
       "       [-2.36388769e-01],\n",
       "       [ 1.22436708e-01],\n",
       "       [ 0.00000000e+00],\n",
       "       [-1.25862221e-03],\n",
       "       [ 1.16686768e-02],\n",
       "       [ 4.29507484e-01],\n",
       "       [-4.30836331e-02],\n",
       "       [-1.17705447e-01],\n",
       "       [-2.07261724e-02],\n",
       "       [ 3.96925154e-02],\n",
       "       [-2.91081559e-02],\n",
       "       [-7.23329742e-03],\n",
       "       [ 1.99654394e-02],\n",
       "       [-4.42760392e-02],\n",
       "       [-2.22231152e-02],\n",
       "       [ 1.11013253e-01],\n",
       "       [ 3.08349393e-02],\n",
       "       [-5.88404835e-02],\n",
       "       [-3.10179413e-02],\n",
       "       [ 4.27287401e-02],\n",
       "       [-4.56700368e-02],\n",
       "       [-3.33072071e-02],\n",
       "       [-3.39015893e-02],\n",
       "       [-1.36445595e-01],\n",
       "       [ 2.29574453e-01],\n",
       "       [-1.35518602e-02],\n",
       "       [-1.42182353e-02],\n",
       "       [-3.43591749e-02],\n",
       "       [ 4.54980372e-02],\n",
       "       [ 1.75601214e-01],\n",
       "       [-3.41452872e-02],\n",
       "       [-2.46059365e-03],\n",
       "       [-5.00205744e-02],\n",
       "       [-4.87901831e-02],\n",
       "       [-1.50791068e-02],\n",
       "       [ 6.20924551e-04],\n",
       "       [ 4.54623310e-02],\n",
       "       [-7.48384681e-02],\n",
       "       [ 3.14916161e-02],\n",
       "       [-3.47373014e-03],\n",
       "       [-4.98830924e-02],\n",
       "       [ 3.82211963e-02],\n",
       "       [-1.15472967e-01],\n",
       "       [ 6.93346751e-02],\n",
       "       [ 1.06849593e-02],\n",
       "       [ 1.21424164e-02],\n",
       "       [-2.21615508e-02],\n",
       "       [ 2.36515321e-01],\n",
       "       [-1.02509460e-01],\n",
       "       [ 3.12525637e-02],\n",
       "       [-2.48787739e-02],\n",
       "       [-1.29957508e-03],\n",
       "       [-2.26457686e-02],\n",
       "       [ 1.65954621e-01],\n",
       "       [ 7.00733863e-02],\n",
       "       [ 7.96176790e-02],\n",
       "       [ 8.21071324e-02],\n",
       "       [ 0.00000000e+00],\n",
       "       [ 7.07464544e-02],\n",
       "       [ 1.63109701e-02],\n",
       "       [-3.73606997e-02],\n",
       "       [ 8.21357092e-02],\n",
       "       [-2.34615345e-02],\n",
       "       [-3.15955720e-03],\n",
       "       [-1.83577546e-01],\n",
       "       [-1.90481950e-02],\n",
       "       [ 0.00000000e+00],\n",
       "       [-1.09116504e-01],\n",
       "       [ 0.00000000e+00],\n",
       "       [ 5.31098582e-02],\n",
       "       [-4.19234197e-02],\n",
       "       [-5.46553584e-01],\n",
       "       [ 3.73683332e-02],\n",
       "       [ 0.00000000e+00],\n",
       "       [ 2.17254674e-03],\n",
       "       [-1.95507960e-03],\n",
       "       [-3.19330396e-02],\n",
       "       [-1.44498962e-02],\n",
       "       [-6.61241614e-02],\n",
       "       [ 1.60003261e-02],\n",
       "       [ 1.37201129e-01],\n",
       "       [ 1.46859573e-01],\n",
       "       [ 0.00000000e+00],\n",
       "       [-6.62494099e-02],\n",
       "       [ 1.75356551e-02],\n",
       "       [ 5.51193233e-02],\n",
       "       [-2.40975285e-02],\n",
       "       [-1.00006419e-01],\n",
       "       [ 2.05161066e-01],\n",
       "       [ 3.19330162e-02],\n",
       "       [ 1.71596203e-02],\n",
       "       [-6.76056266e-02],\n",
       "       [-2.62123102e-03],\n",
       "       [ 1.75038628e-02],\n",
       "       [-5.00887429e-02],\n",
       "       [-2.65670926e-02],\n",
       "       [ 8.32181563e-03],\n",
       "       [ 1.75595741e-01],\n",
       "       [-3.57142887e-03],\n",
       "       [ 1.38998937e-01],\n",
       "       [ 1.92981374e-01],\n",
       "       [-5.59086600e-02],\n",
       "       [-1.86106570e-02]])"
      ]
     },
     "execution_count": 11,
     "metadata": {},
     "output_type": "execute_result"
    }
   ],
   "source": [
    "y_train"
   ]
  },
  {
   "cell_type": "code",
   "execution_count": 12,
   "metadata": {},
   "outputs": [
    {
     "data": {
      "text/plain": [
       "array([[-3.66300440e-03],\n",
       "       [-1.16570151e-01],\n",
       "       [ 1.06762476e-02],\n",
       "       [-1.81795334e-01],\n",
       "       [-7.31426330e-02],\n",
       "       [ 1.68399027e-01],\n",
       "       [-9.65993924e-02],\n",
       "       [ 4.21456580e-02],\n",
       "       [-1.70479720e-01],\n",
       "       [-6.64472575e-02],\n",
       "       [-4.12311077e-01],\n",
       "       [-3.78703204e-02],\n",
       "       [-5.39505121e-02],\n",
       "       [ 3.04412545e-01],\n",
       "       [-1.76140670e-01],\n",
       "       [ 3.68993984e-02],\n",
       "       [-7.00611884e-02],\n",
       "       [ 3.45064273e-01],\n",
       "       [-1.35493460e-02],\n",
       "       [-1.24011885e-01],\n",
       "       [ 9.20064819e-02],\n",
       "       [ 3.92789056e-02],\n",
       "       [ 9.34812348e-02],\n",
       "       [-7.54237239e-02],\n",
       "       [-1.30053141e-01],\n",
       "       [-4.04410052e-02],\n",
       "       [-1.14943246e-01],\n",
       "       [ 8.51578051e-02],\n",
       "       [ 5.10062194e-02],\n",
       "       [ 1.36336448e-01],\n",
       "       [ 3.10782265e-02],\n",
       "       [-7.36282970e-03],\n",
       "       [-1.90152889e-02],\n",
       "       [-2.50729206e-03],\n",
       "       [-3.70335391e-02],\n",
       "       [ 0.00000000e+00],\n",
       "       [ 9.54794502e-03],\n",
       "       [-2.37854769e-02],\n",
       "       [-3.83045287e-02],\n",
       "       [ 1.25119662e-01],\n",
       "       [ 3.39014767e-02],\n",
       "       [-2.42748159e-02],\n",
       "       [ 2.38551209e-01],\n",
       "       [-3.67724780e-01],\n",
       "       [-6.09383053e-02],\n",
       "       [-3.52944135e-02],\n",
       "       [-3.73070167e-02],\n",
       "       [-5.13927657e-02],\n",
       "       [-1.35168584e-01],\n",
       "       [-6.57662623e-02],\n",
       "       [-8.55236111e-03],\n",
       "       [ 4.72529016e-02],\n",
       "       [-3.91730405e-02],\n",
       "       [ 4.06376415e-02],\n",
       "       [-4.56797744e-02],\n",
       "       [ 0.00000000e+00],\n",
       "       [-1.28065908e-01],\n",
       "       [ 6.88298394e-03],\n",
       "       [ 7.82521731e-02],\n",
       "       [ 5.37623741e-01],\n",
       "       [ 1.84167090e-02],\n",
       "       [ 5.70768324e-02],\n",
       "       [-5.67319850e-02],\n",
       "       [-1.51978460e-02],\n",
       "       [ 1.21610996e-01],\n",
       "       [-2.03898921e-02],\n",
       "       [ 1.65610333e-03],\n",
       "       [-6.77703348e-02],\n",
       "       [-2.40571213e-02],\n",
       "       [-7.08953831e-04],\n",
       "       [-3.99825245e-02],\n",
       "       [ 3.10987083e-02],\n",
       "       [ 7.12635787e-01],\n",
       "       [ 5.56583041e-02],\n",
       "       [-6.16172116e-02],\n",
       "       [-1.05820763e-02],\n",
       "       [ 8.55036870e-03],\n",
       "       [ 3.99179152e-02],\n",
       "       [ 9.43571819e-02],\n",
       "       [ 1.50060763e-01],\n",
       "       [-3.65630770e-03],\n",
       "       [ 2.16134913e-01],\n",
       "       [-3.08666184e-02],\n",
       "       [-4.21494582e-02],\n",
       "       [-6.39037633e-02],\n",
       "       [-1.01782643e-01],\n",
       "       [ 4.65968739e-02],\n",
       "       [-9.23793234e-03]])"
      ]
     },
     "execution_count": 12,
     "metadata": {},
     "output_type": "execute_result"
    }
   ],
   "source": [
    "y_test"
   ]
  },
  {
   "cell_type": "code",
   "execution_count": 13,
   "metadata": {},
   "outputs": [],
   "source": [
    "tree_regressor = DecisionTreeRegressor()\n",
    "model = tree_regressor.fit(x_train,y_train)"
   ]
  },
  {
   "cell_type": "code",
   "execution_count": 14,
   "metadata": {},
   "outputs": [
    {
     "data": {
      "text/plain": [
       "-0.18414601569920364"
      ]
     },
     "execution_count": 14,
     "metadata": {},
     "output_type": "execute_result"
    }
   ],
   "source": [
    "model.score(x_test, y_test)"
   ]
  },
  {
   "cell_type": "code",
   "execution_count": 15,
   "metadata": {},
   "outputs": [
    {
     "data": {
      "text/plain": [
       "0.7899358835644925"
      ]
     },
     "execution_count": 15,
     "metadata": {},
     "output_type": "execute_result"
    }
   ],
   "source": [
    "model.score(x_train, y_train)"
   ]
  },
  {
   "cell_type": "code",
   "execution_count": 16,
   "metadata": {},
   "outputs": [
    {
     "data": {
      "text/plain": [
       "['model.sav']"
      ]
     },
     "execution_count": 16,
     "metadata": {},
     "output_type": "execute_result"
    }
   ],
   "source": [
    "filename = \"model.sav\"\n",
    "joblib.dump(model, filename)"
   ]
  },
  {
   "cell_type": "code",
   "execution_count": 17,
   "metadata": {},
   "outputs": [],
   "source": [
    "loaded_model = joblib.load(filename)"
   ]
  },
  {
   "cell_type": "code",
   "execution_count": 18,
   "metadata": {},
   "outputs": [
    {
     "data": {
      "text/plain": [
       "array([13.72011293])"
      ]
     },
     "execution_count": 18,
     "metadata": {},
     "output_type": "execute_result"
    }
   ],
   "source": [
    "loaded_model.predict([[240]])*100"
   ]
  },
  {
   "cell_type": "code",
   "execution_count": null,
   "metadata": {},
   "outputs": [],
   "source": []
  }
 ],
 "metadata": {
  "kernelspec": {
   "display_name": "Python 3",
   "language": "python",
   "name": "python3"
  },
  "language_info": {
   "codemirror_mode": {
    "name": "ipython",
    "version": 3
   },
   "file_extension": ".py",
   "mimetype": "text/x-python",
   "name": "python",
   "nbconvert_exporter": "python",
   "pygments_lexer": "ipython3",
   "version": "3.8.5"
  }
 },
 "nbformat": 4,
 "nbformat_minor": 4
}
