{
 "cells": [
  {
   "cell_type": "code",
   "execution_count": 1,
   "metadata": {},
   "outputs": [],
   "source": [
    "from sklearn.model_selection import train_test_split\n",
    "from sklearn.tree import DecisionTreeRegressor\n",
    "import matplotlib.pyplot as plt\n",
    "import seaborn as sns\n",
    "import pandas as pd\n",
    "import numpy as np\n",
    "import joblib\n",
    "import csv"
   ]
  },
  {
   "cell_type": "code",
   "execution_count": 2,
   "metadata": {},
   "outputs": [
    {
     "data": {
      "text/html": [
       "<div>\n",
       "<style scoped>\n",
       "    .dataframe tbody tr th:only-of-type {\n",
       "        vertical-align: middle;\n",
       "    }\n",
       "\n",
       "    .dataframe tbody tr th {\n",
       "        vertical-align: top;\n",
       "    }\n",
       "\n",
       "    .dataframe thead th {\n",
       "        text-align: right;\n",
       "    }\n",
       "</style>\n",
       "<table border=\"1\" class=\"dataframe\">\n",
       "  <thead>\n",
       "    <tr style=\"text-align: right;\">\n",
       "      <th></th>\n",
       "      <th>Date</th>\n",
       "      <th>ticker</th>\n",
       "      <th>mention_count</th>\n",
       "      <th>percent_change</th>\n",
       "    </tr>\n",
       "  </thead>\n",
       "  <tbody>\n",
       "    <tr>\n",
       "      <th>0</th>\n",
       "      <td>2021-01-28</td>\n",
       "      <td>AMC</td>\n",
       "      <td>214.0</td>\n",
       "      <td>0.0</td>\n",
       "    </tr>\n",
       "    <tr>\n",
       "      <th>1</th>\n",
       "      <td>2021-01-28</td>\n",
       "      <td>BB</td>\n",
       "      <td>123.0</td>\n",
       "      <td>0.0</td>\n",
       "    </tr>\n",
       "    <tr>\n",
       "      <th>2</th>\n",
       "      <td>2021-01-28</td>\n",
       "      <td>CLF</td>\n",
       "      <td>0.0</td>\n",
       "      <td>0.0</td>\n",
       "    </tr>\n",
       "    <tr>\n",
       "      <th>3</th>\n",
       "      <td>2021-01-28</td>\n",
       "      <td>CLNE</td>\n",
       "      <td>0.0</td>\n",
       "      <td>0.0</td>\n",
       "    </tr>\n",
       "    <tr>\n",
       "      <th>4</th>\n",
       "      <td>2021-01-28</td>\n",
       "      <td>CLOV</td>\n",
       "      <td>1.0</td>\n",
       "      <td>0.0</td>\n",
       "    </tr>\n",
       "  </tbody>\n",
       "</table>\n",
       "</div>"
      ],
      "text/plain": [
       "         Date ticker  mention_count  percent_change\n",
       "0  2021-01-28    AMC          214.0             0.0\n",
       "1  2021-01-28     BB          123.0             0.0\n",
       "2  2021-01-28    CLF            0.0             0.0\n",
       "3  2021-01-28   CLNE            0.0             0.0\n",
       "4  2021-01-28   CLOV            1.0             0.0"
      ]
     },
     "execution_count": 2,
     "metadata": {},
     "output_type": "execute_result"
    }
   ],
   "source": [
    "csvfile = '../Resources/Callstreet_Bets.csv'\n",
    "data = pd.read_csv(csvfile)\n",
    "data = data.fillna(0)\n",
    "data.head()"
   ]
  },
  {
   "cell_type": "code",
   "execution_count": 36,
   "metadata": {},
   "outputs": [],
   "source": [
    "df_10_or_more_mentions = data[data['mention_count'] >= 10]"
   ]
  },
  {
   "cell_type": "code",
   "execution_count": 37,
   "metadata": {},
   "outputs": [
    {
     "data": {
      "text/html": [
       "<div>\n",
       "<style scoped>\n",
       "    .dataframe tbody tr th:only-of-type {\n",
       "        vertical-align: middle;\n",
       "    }\n",
       "\n",
       "    .dataframe tbody tr th {\n",
       "        vertical-align: top;\n",
       "    }\n",
       "\n",
       "    .dataframe thead th {\n",
       "        text-align: right;\n",
       "    }\n",
       "</style>\n",
       "<table border=\"1\" class=\"dataframe\">\n",
       "  <thead>\n",
       "    <tr style=\"text-align: right;\">\n",
       "      <th></th>\n",
       "      <th>Date</th>\n",
       "      <th>ticker</th>\n",
       "      <th>mention_count</th>\n",
       "      <th>percent_change</th>\n",
       "    </tr>\n",
       "  </thead>\n",
       "  <tbody>\n",
       "    <tr>\n",
       "      <th>0</th>\n",
       "      <td>2021-01-28</td>\n",
       "      <td>AMC</td>\n",
       "      <td>214.0</td>\n",
       "      <td>0.000000</td>\n",
       "    </tr>\n",
       "    <tr>\n",
       "      <th>1</th>\n",
       "      <td>2021-01-28</td>\n",
       "      <td>BB</td>\n",
       "      <td>123.0</td>\n",
       "      <td>0.000000</td>\n",
       "    </tr>\n",
       "    <tr>\n",
       "      <th>6</th>\n",
       "      <td>2021-01-28</td>\n",
       "      <td>GME</td>\n",
       "      <td>419.0</td>\n",
       "      <td>0.000000</td>\n",
       "    </tr>\n",
       "    <tr>\n",
       "      <th>9</th>\n",
       "      <td>2021-01-28</td>\n",
       "      <td>SENS</td>\n",
       "      <td>11.0</td>\n",
       "      <td>0.000000</td>\n",
       "    </tr>\n",
       "    <tr>\n",
       "      <th>12</th>\n",
       "      <td>2021-01-29</td>\n",
       "      <td>AMC</td>\n",
       "      <td>2276.0</td>\n",
       "      <td>0.429507</td>\n",
       "    </tr>\n",
       "  </tbody>\n",
       "</table>\n",
       "</div>"
      ],
      "text/plain": [
       "          Date ticker  mention_count  percent_change\n",
       "0   2021-01-28    AMC          214.0        0.000000\n",
       "1   2021-01-28     BB          123.0        0.000000\n",
       "6   2021-01-28    GME          419.0        0.000000\n",
       "9   2021-01-28   SENS           11.0        0.000000\n",
       "12  2021-01-29    AMC         2276.0        0.429507"
      ]
     },
     "execution_count": 37,
     "metadata": {},
     "output_type": "execute_result"
    }
   ],
   "source": [
    "df_10_or_more_mentions.head()"
<<<<<<< HEAD
   ]
  },
  {
   "cell_type": "code",
   "execution_count": 38,
   "metadata": {},
   "outputs": [],
   "source": [
    "X = df_10_or_more_mentions['mention_count'].values.reshape(-1, 1)\n",
    "y = df_10_or_more_mentions['percent_change'].values.reshape(-1, 1)"
=======
>>>>>>> d3c30e8160cd22bac2acf09fe9fe20ea42b05e35
   ]
  },
  {
   "cell_type": "code",
   "execution_count": 15,
   "metadata": {},
   "outputs": [],
   "source": [
    "X = df_10_or_more_mentions['mention_count'].values.reshape(-1, 1)\n",
    "y = df_10_or_more_mentions['percent_change'].values.reshape(-1, 1)"
   ]
  },
  {
   "cell_type": "code",
   "execution_count": 6,
   "metadata": {},
   "outputs": [
    {
     "name": "stderr",
     "output_type": "stream",
     "text": [
      "/Users/tiffanyharris/opt/anaconda3/lib/python3.8/site-packages/seaborn/distributions.py:2551: FutureWarning: `distplot` is a deprecated function and will be removed in a future version. Please adapt your code to use either `displot` (a figure-level function with similar flexibility) or `histplot` (an axes-level function for histograms).\n",
      "  warnings.warn(msg, FutureWarning)\n"
     ]
    },
    {
     "data": {
      "text/plain": [
<<<<<<< HEAD
       "<matplotlib.axes._subplots.AxesSubplot at 0x7f850cc87f10>"
      ]
     },
     "execution_count": 15,
=======
       "<AxesSubplot:ylabel='Density'>"
      ]
     },
     "execution_count": 6,
     "metadata": {},
     "output_type": "execute_result"
    },
    {
     "data": {
      "image/png": "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\n",
      "text/plain": [
       "<Figure size 432x288 with 1 Axes>"
      ]
     },
     "metadata": {
      "needs_background": "light"
     },
     "output_type": "display_data"
    }
   ],
   "source": [
    "sns.distplot(X[X < 50])"
   ]
  },
  {
   "cell_type": "code",
   "execution_count": 7,
   "metadata": {},
   "outputs": [
    {
     "name": "stdout",
     "output_type": "stream",
     "text": [
      "264\n"
     ]
    }
   ],
   "source": [
    "print(len(X))"
   ]
  },
  {
   "cell_type": "code",
   "execution_count": 8,
   "metadata": {},
   "outputs": [
    {
     "data": {
      "text/plain": [
       "<AxesSubplot:xlabel='mention_count', ylabel='percent_change'>"
      ]
     },
     "execution_count": 8,
     "metadata": {},
     "output_type": "execute_result"
    },
    {
     "data": {
      "image/png": "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\n",
      "text/plain": [
       "<Figure size 432x288 with 1 Axes>"
      ]
     },
     "metadata": {
      "needs_background": "light"
     },
     "output_type": "display_data"
    }
   ],
   "source": [
    "sns.scatterplot(x = 'mention_count', y = 'percent_change', data = df_10_or_more_mentions[df_10_or_more_mentions['mention_count'] < 30])"
   ]
  },
  {
   "cell_type": "code",
   "execution_count": 9,
   "metadata": {},
   "outputs": [],
   "source": [
    "x_train, x_test, y_train, y_test = train_test_split(X, y, random_state=4, test_size=0.33)"
   ]
  },
  {
   "cell_type": "code",
   "execution_count": 10,
   "metadata": {},
   "outputs": [
    {
     "data": {
      "text/plain": [
       "array([[  17.],\n",
       "       [  16.],\n",
       "       [  10.],\n",
       "       [  19.],\n",
       "       [  18.],\n",
       "       [ 177.],\n",
       "       [  10.],\n",
       "       [  97.],\n",
       "       [  13.],\n",
       "       [ 168.],\n",
       "       [  38.],\n",
       "       [  13.],\n",
       "       [  11.],\n",
       "       [  15.],\n",
       "       [  60.],\n",
       "       [ 275.],\n",
       "       [  16.],\n",
       "       [ 171.],\n",
       "       [  13.],\n",
       "       [  16.],\n",
       "       [  16.],\n",
       "       [ 192.],\n",
       "       [  12.],\n",
       "       [  36.],\n",
       "       [  11.],\n",
       "       [  33.],\n",
       "       [  11.],\n",
       "       [ 109.],\n",
       "       [  17.],\n",
       "       [  42.],\n",
       "       [  11.],\n",
       "       [  46.],\n",
       "       [  19.],\n",
       "       [  16.],\n",
       "       [  16.],\n",
       "       [  48.],\n",
       "       [  12.],\n",
       "       [  27.],\n",
       "       [  18.],\n",
       "       [ 106.],\n",
       "       [  11.],\n",
       "       [  19.],\n",
       "       [  85.],\n",
       "       [1280.],\n",
       "       [1256.],\n",
       "       [  23.],\n",
       "       [  10.],\n",
       "       [  27.],\n",
       "       [  13.],\n",
       "       [  33.],\n",
       "       [  12.],\n",
       "       [  11.],\n",
       "       [  46.],\n",
       "       [  20.],\n",
       "       [  21.],\n",
       "       [ 123.],\n",
       "       [  29.],\n",
       "       [  13.],\n",
       "       [  19.],\n",
       "       [  45.],\n",
       "       [  25.],\n",
       "       [  20.],\n",
       "       [  31.],\n",
       "       [  38.],\n",
       "       [  15.],\n",
       "       [  57.],\n",
       "       [  49.],\n",
       "       [  41.],\n",
       "       [  11.],\n",
       "       [  14.],\n",
       "       [  23.],\n",
       "       [  13.],\n",
       "       [  31.],\n",
       "       [  11.],\n",
       "       [  11.],\n",
       "       [  23.],\n",
       "       [  22.],\n",
       "       [  95.],\n",
       "       [  12.],\n",
       "       [  12.],\n",
       "       [  46.],\n",
       "       [  78.],\n",
       "       [  16.],\n",
       "       [  22.],\n",
       "       [  31.],\n",
       "       [  13.],\n",
       "       [  13.],\n",
       "       [  14.]])"
      ]
     },
     "execution_count": 10,
>>>>>>> d3c30e8160cd22bac2acf09fe9fe20ea42b05e35
     "metadata": {},
     "output_type": "execute_result"
    },
    {
     "data": {
      "image/png": "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\n",
      "text/plain": [
       "<Figure size 432x288 with 1 Axes>"
      ]
     },
     "metadata": {
      "needs_background": "light"
     },
     "output_type": "display_data"
    }
   ],
   "source": [
    "sns.distplot(X[X < 50])"
   ]
  },
  {
   "cell_type": "code",
<<<<<<< HEAD
   "execution_count": 39,
   "metadata": {},
   "outputs": [
    {
     "name": "stdout",
     "output_type": "stream",
     "text": [
      "264\n"
     ]
=======
   "execution_count": 11,
   "metadata": {},
   "outputs": [
    {
     "data": {
      "text/plain": [
       "array([[ 0.00000000e+00],\n",
       "       [-8.12826470e-02],\n",
       "       [-3.50913198e-02],\n",
       "       [-6.15645321e-02],\n",
       "       [-2.82368915e-02],\n",
       "       [ 1.80498248e-02],\n",
       "       [ 6.06968245e-02],\n",
       "       [-6.77486597e-02],\n",
       "       [-6.70057343e-02],\n",
       "       [-7.24557221e-02],\n",
       "       [-5.31079473e-01],\n",
       "       [-2.76783957e-02],\n",
       "       [ 0.00000000e+00],\n",
       "       [-2.56292856e-02],\n",
       "       [ 8.47652763e-02],\n",
       "       [-1.21353839e-01],\n",
       "       [-9.16290732e-01],\n",
       "       [ 0.00000000e+00],\n",
       "       [ 8.78858635e-02],\n",
       "       [ 4.23255099e-01],\n",
       "       [ 1.61755225e-01],\n",
       "       [ 5.54017525e-03],\n",
       "       [ 2.64255672e-02],\n",
       "       [-3.95538481e-01],\n",
       "       [-2.55332371e-02],\n",
       "       [-3.82654850e-02],\n",
       "       [-9.21249604e-02],\n",
       "       [ 1.06275452e-01],\n",
       "       [ 2.35754711e-02],\n",
       "       [ 1.66486461e-01],\n",
       "       [ 1.26484109e-01],\n",
       "       [ 0.00000000e+00],\n",
       "       [-1.10133693e-02],\n",
       "       [ 7.84730285e-03],\n",
       "       [ 1.24224886e-02],\n",
       "       [ 1.43266434e-01],\n",
       "       [ 1.70236361e-01],\n",
       "       [ 6.37178464e-02],\n",
       "       [ 1.44891391e-01],\n",
       "       [ 0.00000000e+00],\n",
       "       [-3.60344599e-02],\n",
       "       [ 2.95709156e-02],\n",
       "       [-2.95505144e-02],\n",
       "       [-7.51695550e-02],\n",
       "       [ 2.30143991e-03],\n",
       "       [ 3.01204755e-03],\n",
       "       [ 5.18030976e-01],\n",
       "       [-7.56842454e-02],\n",
       "       [ 1.02084176e-01],\n",
       "       [ 1.78854296e-02],\n",
       "       [ 8.73367148e-03],\n",
       "       [ 0.00000000e+00],\n",
       "       [ 1.81400389e-01],\n",
       "       [-4.96058607e-02],\n",
       "       [-2.76108088e-02],\n",
       "       [ 3.42238398e-02],\n",
       "       [-1.12494355e-02],\n",
       "       [-2.17399655e-02],\n",
       "       [-2.92857014e-02],\n",
       "       [-6.29138415e-02],\n",
       "       [ 4.71941631e-02],\n",
       "       [-1.10498781e-02],\n",
       "       [ 1.45140288e-02],\n",
       "       [ 9.98006567e-03],\n",
       "       [ 2.48762042e-03],\n",
       "       [ 9.00297291e-02],\n",
       "       [-3.20487073e-02],\n",
       "       [ 1.26651308e-01],\n",
       "       [ 4.95232399e-02],\n",
       "       [ 1.41643018e-01],\n",
       "       [ 2.51221531e-02],\n",
       "       [-9.48213314e-02],\n",
       "       [-2.35200344e-01],\n",
       "       [-2.36388769e-01],\n",
       "       [ 1.22436708e-01],\n",
       "       [ 0.00000000e+00],\n",
       "       [-1.25862221e-03],\n",
       "       [ 1.16686768e-02],\n",
       "       [ 4.29507484e-01],\n",
       "       [-4.30836331e-02],\n",
       "       [-1.17705447e-01],\n",
       "       [-2.07261724e-02],\n",
       "       [ 3.96925154e-02],\n",
       "       [-2.91081559e-02],\n",
       "       [-7.23329742e-03],\n",
       "       [ 1.99654394e-02],\n",
       "       [-4.42760392e-02],\n",
       "       [-2.22231152e-02],\n",
       "       [ 1.11013253e-01],\n",
       "       [ 3.08349393e-02],\n",
       "       [-5.88404835e-02],\n",
       "       [-3.10179413e-02],\n",
       "       [ 4.27287401e-02],\n",
       "       [-4.56700368e-02],\n",
       "       [-3.33072071e-02],\n",
       "       [-3.39015893e-02],\n",
       "       [-1.36445595e-01],\n",
       "       [ 2.29574453e-01],\n",
       "       [-1.35518602e-02],\n",
       "       [-1.42182353e-02],\n",
       "       [-3.43591749e-02],\n",
       "       [ 4.54980372e-02],\n",
       "       [ 1.75601214e-01],\n",
       "       [-3.41452872e-02],\n",
       "       [-2.46059365e-03],\n",
       "       [-5.00205744e-02],\n",
       "       [-4.87901831e-02],\n",
       "       [-1.50791068e-02],\n",
       "       [ 6.20924551e-04],\n",
       "       [ 4.54623310e-02],\n",
       "       [-7.48384681e-02],\n",
       "       [ 3.14916161e-02],\n",
       "       [-3.47373014e-03],\n",
       "       [-4.98830924e-02],\n",
       "       [ 3.82211963e-02],\n",
       "       [-1.15472967e-01],\n",
       "       [ 6.93346751e-02],\n",
       "       [ 1.06849593e-02],\n",
       "       [ 1.21424164e-02],\n",
       "       [-2.21615508e-02],\n",
       "       [ 2.36515321e-01],\n",
       "       [-1.02509460e-01],\n",
       "       [ 3.12525637e-02],\n",
       "       [-2.48787739e-02],\n",
       "       [-1.29957508e-03],\n",
       "       [-2.26457686e-02],\n",
       "       [ 1.65954621e-01],\n",
       "       [ 7.00733863e-02],\n",
       "       [ 7.96176790e-02],\n",
       "       [ 8.21071324e-02],\n",
       "       [ 0.00000000e+00],\n",
       "       [ 7.07464544e-02],\n",
       "       [ 1.63109701e-02],\n",
       "       [-3.73606997e-02],\n",
       "       [ 8.21357092e-02],\n",
       "       [-2.34615345e-02],\n",
       "       [-3.15955720e-03],\n",
       "       [-1.83577546e-01],\n",
       "       [-1.90481950e-02],\n",
       "       [ 0.00000000e+00],\n",
       "       [-1.09116504e-01],\n",
       "       [ 0.00000000e+00],\n",
       "       [ 5.31098582e-02],\n",
       "       [-4.19234197e-02],\n",
       "       [-5.46553584e-01],\n",
       "       [ 3.73683332e-02],\n",
       "       [ 0.00000000e+00],\n",
       "       [ 2.17254674e-03],\n",
       "       [-1.95507960e-03],\n",
       "       [-3.19330396e-02],\n",
       "       [-1.44498962e-02],\n",
       "       [-6.61241614e-02],\n",
       "       [ 1.60003261e-02],\n",
       "       [ 1.37201129e-01],\n",
       "       [ 1.46859573e-01],\n",
       "       [ 0.00000000e+00],\n",
       "       [-6.62494099e-02],\n",
       "       [ 1.75356551e-02],\n",
       "       [ 5.51193233e-02],\n",
       "       [-2.40975285e-02],\n",
       "       [-1.00006419e-01],\n",
       "       [ 2.05161066e-01],\n",
       "       [ 3.19330162e-02],\n",
       "       [ 1.71596203e-02],\n",
       "       [-6.76056266e-02],\n",
       "       [-2.62123102e-03],\n",
       "       [ 1.75038628e-02],\n",
       "       [-5.00887429e-02],\n",
       "       [-2.65670926e-02],\n",
       "       [ 8.32181563e-03],\n",
       "       [ 1.75595741e-01],\n",
       "       [-3.57142887e-03],\n",
       "       [ 1.38998937e-01],\n",
       "       [ 1.92981374e-01],\n",
       "       [-5.59086600e-02],\n",
       "       [-1.86106570e-02]])"
      ]
     },
     "execution_count": 11,
     "metadata": {},
     "output_type": "execute_result"
>>>>>>> d3c30e8160cd22bac2acf09fe9fe20ea42b05e35
    }
   ],
   "source": [
    "print(len(X))"
   ]
  },
  {
   "cell_type": "code",
<<<<<<< HEAD
   "execution_count": 43,
=======
   "execution_count": 12,
>>>>>>> d3c30e8160cd22bac2acf09fe9fe20ea42b05e35
   "metadata": {},
   "outputs": [
    {
     "data": {
      "text/plain": [
<<<<<<< HEAD
       "<matplotlib.axes._subplots.AxesSubplot at 0x7f850d6a57f0>"
      ]
     },
     "execution_count": 43,
=======
       "array([[-3.66300440e-03],\n",
       "       [-1.16570151e-01],\n",
       "       [ 1.06762476e-02],\n",
       "       [-1.81795334e-01],\n",
       "       [-7.31426330e-02],\n",
       "       [ 1.68399027e-01],\n",
       "       [-9.65993924e-02],\n",
       "       [ 4.21456580e-02],\n",
       "       [-1.70479720e-01],\n",
       "       [-6.64472575e-02],\n",
       "       [-4.12311077e-01],\n",
       "       [-3.78703204e-02],\n",
       "       [-5.39505121e-02],\n",
       "       [ 3.04412545e-01],\n",
       "       [-1.76140670e-01],\n",
       "       [ 3.68993984e-02],\n",
       "       [-7.00611884e-02],\n",
       "       [ 3.45064273e-01],\n",
       "       [-1.35493460e-02],\n",
       "       [-1.24011885e-01],\n",
       "       [ 9.20064819e-02],\n",
       "       [ 3.92789056e-02],\n",
       "       [ 9.34812348e-02],\n",
       "       [-7.54237239e-02],\n",
       "       [-1.30053141e-01],\n",
       "       [-4.04410052e-02],\n",
       "       [-1.14943246e-01],\n",
       "       [ 8.51578051e-02],\n",
       "       [ 5.10062194e-02],\n",
       "       [ 1.36336448e-01],\n",
       "       [ 3.10782265e-02],\n",
       "       [-7.36282970e-03],\n",
       "       [-1.90152889e-02],\n",
       "       [-2.50729206e-03],\n",
       "       [-3.70335391e-02],\n",
       "       [ 0.00000000e+00],\n",
       "       [ 9.54794502e-03],\n",
       "       [-2.37854769e-02],\n",
       "       [-3.83045287e-02],\n",
       "       [ 1.25119662e-01],\n",
       "       [ 3.39014767e-02],\n",
       "       [-2.42748159e-02],\n",
       "       [ 2.38551209e-01],\n",
       "       [-3.67724780e-01],\n",
       "       [-6.09383053e-02],\n",
       "       [-3.52944135e-02],\n",
       "       [-3.73070167e-02],\n",
       "       [-5.13927657e-02],\n",
       "       [-1.35168584e-01],\n",
       "       [-6.57662623e-02],\n",
       "       [-8.55236111e-03],\n",
       "       [ 4.72529016e-02],\n",
       "       [-3.91730405e-02],\n",
       "       [ 4.06376415e-02],\n",
       "       [-4.56797744e-02],\n",
       "       [ 0.00000000e+00],\n",
       "       [-1.28065908e-01],\n",
       "       [ 6.88298394e-03],\n",
       "       [ 7.82521731e-02],\n",
       "       [ 5.37623741e-01],\n",
       "       [ 1.84167090e-02],\n",
       "       [ 5.70768324e-02],\n",
       "       [-5.67319850e-02],\n",
       "       [-1.51978460e-02],\n",
       "       [ 1.21610996e-01],\n",
       "       [-2.03898921e-02],\n",
       "       [ 1.65610333e-03],\n",
       "       [-6.77703348e-02],\n",
       "       [-2.40571213e-02],\n",
       "       [-7.08953831e-04],\n",
       "       [-3.99825245e-02],\n",
       "       [ 3.10987083e-02],\n",
       "       [ 7.12635787e-01],\n",
       "       [ 5.56583041e-02],\n",
       "       [-6.16172116e-02],\n",
       "       [-1.05820763e-02],\n",
       "       [ 8.55036870e-03],\n",
       "       [ 3.99179152e-02],\n",
       "       [ 9.43571819e-02],\n",
       "       [ 1.50060763e-01],\n",
       "       [-3.65630770e-03],\n",
       "       [ 2.16134913e-01],\n",
       "       [-3.08666184e-02],\n",
       "       [-4.21494582e-02],\n",
       "       [-6.39037633e-02],\n",
       "       [-1.01782643e-01],\n",
       "       [ 4.65968739e-02],\n",
       "       [-9.23793234e-03]])"
      ]
     },
     "execution_count": 12,
>>>>>>> d3c30e8160cd22bac2acf09fe9fe20ea42b05e35
     "metadata": {},
     "output_type": "execute_result"
    },
    {
     "data": {
      "image/png": "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\n",
      "text/plain": [
       "<Figure size 432x288 with 1 Axes>"
      ]
     },
     "metadata": {
      "needs_background": "light"
     },
     "output_type": "display_data"
    }
   ],
   "source": [
    "sns.scatterplot(x = 'mention_count', y = 'percent_change', data = df_10_or_more_mentions[df_10_or_more_mentions['mention_count'] < 30])"
   ]
  },
  {
   "cell_type": "code",
   "execution_count": 44,
   "metadata": {},
   "outputs": [],
   "source": [
    "x_train, x_test, y_train, y_test = train_test_split(X, y, random_state=4, test_size=0.33)\n",
    "#x_train"
   ]
  },
  {
   "cell_type": "code",
   "execution_count": null,
   "metadata": {},
   "outputs": [],
   "source": [
    "x_test"
   ]
  },
  {
   "cell_type": "code",
   "execution_count": null,
   "metadata": {},
   "outputs": [],
   "source": [
    "y_train"
   ]
  },
  {
   "cell_type": "code",
   "execution_count": null,
   "metadata": {},
   "outputs": [],
   "source": [
    "y_test"
   ]
  },
  {
   "cell_type": "code",
<<<<<<< HEAD
   "execution_count": 45,
=======
   "execution_count": 13,
>>>>>>> d3c30e8160cd22bac2acf09fe9fe20ea42b05e35
   "metadata": {},
   "outputs": [],
   "source": [
    "tree_regressor = DecisionTreeRegressor()\n",
    "model = tree_regressor.fit(x_train,y_train)"
   ]
  },
  {
   "cell_type": "code",
<<<<<<< HEAD
   "execution_count": 46,
=======
   "execution_count": 14,
>>>>>>> d3c30e8160cd22bac2acf09fe9fe20ea42b05e35
   "metadata": {},
   "outputs": [
    {
     "data": {
      "text/plain": [
       "-0.18414601569920364"
      ]
     },
<<<<<<< HEAD
     "execution_count": 46,
=======
     "execution_count": 14,
>>>>>>> d3c30e8160cd22bac2acf09fe9fe20ea42b05e35
     "metadata": {},
     "output_type": "execute_result"
    }
   ],
   "source": [
    "model.score(x_test, y_test)"
   ]
  },
  {
   "cell_type": "code",
<<<<<<< HEAD
   "execution_count": 47,
=======
   "execution_count": 15,
>>>>>>> d3c30e8160cd22bac2acf09fe9fe20ea42b05e35
   "metadata": {},
   "outputs": [
    {
     "data": {
      "text/plain": [
<<<<<<< HEAD
       "0.7899358835644923"
      ]
     },
     "execution_count": 47,
=======
       "0.7899358835644925"
      ]
     },
     "execution_count": 15,
>>>>>>> d3c30e8160cd22bac2acf09fe9fe20ea42b05e35
     "metadata": {},
     "output_type": "execute_result"
    }
   ],
   "source": [
    "model.score(x_train, y_train)"
   ]
  },
  {
   "cell_type": "code",
<<<<<<< HEAD
   "execution_count": 50,
=======
   "execution_count": 16,
>>>>>>> d3c30e8160cd22bac2acf09fe9fe20ea42b05e35
   "metadata": {},
   "outputs": [
    {
     "data": {
      "text/plain": [
       "['model.sav']"
      ]
     },
<<<<<<< HEAD
     "execution_count": 50,
=======
     "execution_count": 16,
>>>>>>> d3c30e8160cd22bac2acf09fe9fe20ea42b05e35
     "metadata": {},
     "output_type": "execute_result"
    }
   ],
   "source": [
    "filename = \"model.sav\"\n",
    "joblib.dump(model, filename)"
   ]
  },
  {
   "cell_type": "code",
<<<<<<< HEAD
   "execution_count": 51,
=======
   "execution_count": 17,
>>>>>>> d3c30e8160cd22bac2acf09fe9fe20ea42b05e35
   "metadata": {},
   "outputs": [],
   "source": [
    "loaded_model = joblib.load(filename)"
   ]
  },
  {
   "cell_type": "code",
<<<<<<< HEAD
   "execution_count": 63,
=======
   "execution_count": 20,
>>>>>>> d3c30e8160cd22bac2acf09fe9fe20ea42b05e35
   "metadata": {},
   "outputs": [
    {
     "data": {
      "text/plain": [
<<<<<<< HEAD
       "array([13.72011293])"
      ]
     },
     "execution_count": 63,
=======
       "array([51.8030976])"
      ]
     },
     "execution_count": 20,
>>>>>>> d3c30e8160cd22bac2acf09fe9fe20ea42b05e35
     "metadata": {},
     "output_type": "execute_result"
    }
   ],
   "source": [
<<<<<<< HEAD
    "loaded_model.predict([[240]])*100"
   ]
  },
  {
   "cell_type": "code",
   "execution_count": null,
   "metadata": {},
   "outputs": [],
   "source": [
    "for mention in range(100,400,20):\n",
    "    print(mention, loaded_model.predict([[mention]]))"
   ]
  },
  {
   "cell_type": "code",
   "execution_count": null,
   "metadata": {},
   "outputs": [],
   "source": [
    "from sklearn import tree\n",
    "clf = tree.DecisionTreeClassifier()\n",
    "clf = clf.fit(x_train, y_train)\n",
    "clf.score(x_test, y_test)"
=======
    "loaded_model.predict([[4000]])*100"
>>>>>>> d3c30e8160cd22bac2acf09fe9fe20ea42b05e35
   ]
  },
  {
   "cell_type": "code",
   "execution_count": null,
   "metadata": {},
   "outputs": [],
   "source": []
  }
 ],
 "metadata": {
  "kernelspec": {
   "display_name": "Python 3",
   "language": "python",
   "name": "python3"
  },
  "language_info": {
   "codemirror_mode": {
    "name": "ipython",
    "version": 3
   },
   "file_extension": ".py",
   "mimetype": "text/x-python",
   "name": "python",
   "nbconvert_exporter": "python",
   "pygments_lexer": "ipython3",
   "version": "3.8.3"
  }
 },
 "nbformat": 4,
 "nbformat_minor": 4
}
