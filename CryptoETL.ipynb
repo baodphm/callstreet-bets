{
 "cells": [
  {
   "cell_type": "markdown",
   "metadata": {},
   "source": [
    "# Extract Stock Ticker Mentions from Wallstreet Bets Data"
   ]
  },
  {
   "cell_type": "code",
   "execution_count": 1,
   "metadata": {},
   "outputs": [],
   "source": [
    "#import dependencies\n",
    "import csv\n",
    "import pandas as pd\n",
    "import yfinance as yf\n",
    "import numpy as np\n",
    "import datetime as dt"
   ]
  },
  {
   "cell_type": "code",
   "execution_count": 2,
   "metadata": {},
   "outputs": [
    {
     "data": {
      "text/html": [
       "<div>\n",
       "<style scoped>\n",
       "    .dataframe tbody tr th:only-of-type {\n",
       "        vertical-align: middle;\n",
       "    }\n",
       "\n",
       "    .dataframe tbody tr th {\n",
       "        vertical-align: top;\n",
       "    }\n",
       "\n",
       "    .dataframe thead th {\n",
       "        text-align: right;\n",
       "    }\n",
       "</style>\n",
       "<table border=\"1\" class=\"dataframe\">\n",
       "  <thead>\n",
       "    <tr style=\"text-align: right;\">\n",
       "      <th></th>\n",
       "      <th>title</th>\n",
       "      <th>score</th>\n",
       "      <th>id</th>\n",
       "      <th>url</th>\n",
       "      <th>comms_num</th>\n",
       "      <th>created</th>\n",
       "      <th>body</th>\n",
       "      <th>timestamp</th>\n",
       "    </tr>\n",
       "  </thead>\n",
       "  <tbody>\n",
       "    <tr>\n",
       "      <th>0</th>\n",
       "      <td>It's not about the money, it's about sending a...</td>\n",
       "      <td>55</td>\n",
       "      <td>l6ulcx</td>\n",
       "      <td>https://v.redd.it/6j75regs72e61</td>\n",
       "      <td>6</td>\n",
       "      <td>1.611863e+09</td>\n",
       "      <td>NaN</td>\n",
       "      <td>2021-01-28 21:37:41</td>\n",
       "    </tr>\n",
       "    <tr>\n",
       "      <th>1</th>\n",
       "      <td>Math Professor Scott Steiner says the numbers ...</td>\n",
       "      <td>110</td>\n",
       "      <td>l6uibd</td>\n",
       "      <td>https://v.redd.it/ah50lyny62e61</td>\n",
       "      <td>23</td>\n",
       "      <td>1.611862e+09</td>\n",
       "      <td>NaN</td>\n",
       "      <td>2021-01-28 21:32:10</td>\n",
       "    </tr>\n",
       "    <tr>\n",
       "      <th>2</th>\n",
       "      <td>Exit the system</td>\n",
       "      <td>0</td>\n",
       "      <td>l6uhhn</td>\n",
       "      <td>https://www.reddit.com/r/wallstreetbets/commen...</td>\n",
       "      <td>47</td>\n",
       "      <td>1.611862e+09</td>\n",
       "      <td>The CEO of NASDAQ pushed to halt trading “to g...</td>\n",
       "      <td>2021-01-28 21:30:35</td>\n",
       "    </tr>\n",
       "    <tr>\n",
       "      <th>3</th>\n",
       "      <td>NEW SEC FILING FOR GME! CAN SOMEONE LESS RETAR...</td>\n",
       "      <td>29</td>\n",
       "      <td>l6ugk6</td>\n",
       "      <td>https://sec.report/Document/0001193125-21-019848/</td>\n",
       "      <td>74</td>\n",
       "      <td>1.611862e+09</td>\n",
       "      <td>NaN</td>\n",
       "      <td>2021-01-28 21:28:57</td>\n",
       "    </tr>\n",
       "    <tr>\n",
       "      <th>4</th>\n",
       "      <td>Not to distract from GME, just thought our AMC...</td>\n",
       "      <td>71</td>\n",
       "      <td>l6ufgy</td>\n",
       "      <td>https://i.redd.it/4h2sukb662e61.jpg</td>\n",
       "      <td>156</td>\n",
       "      <td>1.611862e+09</td>\n",
       "      <td>NaN</td>\n",
       "      <td>2021-01-28 21:26:56</td>\n",
       "    </tr>\n",
       "  </tbody>\n",
       "</table>\n",
       "</div>"
      ],
      "text/plain": [
       "                                               title  score      id  \\\n",
       "0  It's not about the money, it's about sending a...     55  l6ulcx   \n",
       "1  Math Professor Scott Steiner says the numbers ...    110  l6uibd   \n",
       "2                                    Exit the system      0  l6uhhn   \n",
       "3  NEW SEC FILING FOR GME! CAN SOMEONE LESS RETAR...     29  l6ugk6   \n",
       "4  Not to distract from GME, just thought our AMC...     71  l6ufgy   \n",
       "\n",
       "                                                 url  comms_num       created  \\\n",
       "0                    https://v.redd.it/6j75regs72e61          6  1.611863e+09   \n",
       "1                    https://v.redd.it/ah50lyny62e61         23  1.611862e+09   \n",
       "2  https://www.reddit.com/r/wallstreetbets/commen...         47  1.611862e+09   \n",
       "3  https://sec.report/Document/0001193125-21-019848/         74  1.611862e+09   \n",
       "4                https://i.redd.it/4h2sukb662e61.jpg        156  1.611862e+09   \n",
       "\n",
       "                                                body           timestamp  \n",
       "0                                                NaN 2021-01-28 21:37:41  \n",
       "1                                                NaN 2021-01-28 21:32:10  \n",
       "2  The CEO of NASDAQ pushed to halt trading “to g... 2021-01-28 21:30:35  \n",
       "3                                                NaN 2021-01-28 21:28:57  \n",
       "4                                                NaN 2021-01-28 21:26:56  "
      ]
     },
     "execution_count": 2,
     "metadata": {},
     "output_type": "execute_result"
    }
   ],
   "source": [
    "# import Wallstreet Bets csv file from Kaggle\n",
    "# url= https://www.kaggle.com/gpreda/reddit-wallstreetsbets-posts\n",
    "csvfile = \"./Resources/reddit_wsb.csv\"\n",
    "wsb_csv = pd.read_csv(csvfile)\n",
    "wsb_csv = pd.read_csv(csvfile, parse_dates=['timestamp'], infer_datetime_format=True)\n",
    "wsb_csv.head()"
   ]
  },
  {
   "cell_type": "code",
   "execution_count": 3,
   "metadata": {},
   "outputs": [
    {
     "data": {
      "text/plain": [
       "title                object\n",
       "score                 int64\n",
       "id                   object\n",
       "url                  object\n",
       "comms_num             int64\n",
       "created             float64\n",
       "body                 object\n",
       "timestamp    datetime64[ns]\n",
       "dtype: object"
      ]
     },
     "execution_count": 3,
     "metadata": {},
     "output_type": "execute_result"
    }
   ],
   "source": [
    "wsb_csv.dtypes"
   ]
  },
  {
   "cell_type": "code",
   "execution_count": 4,
   "metadata": {},
   "outputs": [
    {
     "data": {
      "text/html": [
       "<div>\n",
       "<style scoped>\n",
       "    .dataframe tbody tr th:only-of-type {\n",
       "        vertical-align: middle;\n",
       "    }\n",
       "\n",
       "    .dataframe tbody tr th {\n",
       "        vertical-align: top;\n",
       "    }\n",
       "\n",
       "    .dataframe thead th {\n",
       "        text-align: right;\n",
       "    }\n",
       "</style>\n",
       "<table border=\"1\" class=\"dataframe\">\n",
       "  <thead>\n",
       "    <tr style=\"text-align: right;\">\n",
       "      <th></th>\n",
       "      <th>timestamp</th>\n",
       "      <th>title_body</th>\n",
       "      <th>weekday</th>\n",
       "    </tr>\n",
       "  </thead>\n",
       "  <tbody>\n",
       "    <tr>\n",
       "      <th>0</th>\n",
       "      <td>2021-01-28</td>\n",
       "      <td>IT'S NOT ABOUT THE MONEY, IT'S ABOUT SENDING A...</td>\n",
       "      <td>Thursday</td>\n",
       "    </tr>\n",
       "    <tr>\n",
       "      <th>1</th>\n",
       "      <td>2021-01-28</td>\n",
       "      <td>MATH PROFESSOR SCOTT STEINER SAYS THE NUMBERS ...</td>\n",
       "      <td>Thursday</td>\n",
       "    </tr>\n",
       "    <tr>\n",
       "      <th>2</th>\n",
       "      <td>2021-01-28</td>\n",
       "      <td>EXIT THE SYSTEMTHE CEO OF NASDAQ PUSHED TO HAL...</td>\n",
       "      <td>Thursday</td>\n",
       "    </tr>\n",
       "    <tr>\n",
       "      <th>3</th>\n",
       "      <td>2021-01-28</td>\n",
       "      <td>NEW SEC FILING FOR GME! CAN SOMEONE LESS RETAR...</td>\n",
       "      <td>Thursday</td>\n",
       "    </tr>\n",
       "    <tr>\n",
       "      <th>4</th>\n",
       "      <td>2021-01-28</td>\n",
       "      <td>NOT TO DISTRACT FROM GME, JUST THOUGHT OUR AMC...</td>\n",
       "      <td>Thursday</td>\n",
       "    </tr>\n",
       "  </tbody>\n",
       "</table>\n",
       "</div>"
      ],
      "text/plain": [
       "    timestamp                                         title_body   weekday\n",
       "0  2021-01-28  IT'S NOT ABOUT THE MONEY, IT'S ABOUT SENDING A...  Thursday\n",
       "1  2021-01-28  MATH PROFESSOR SCOTT STEINER SAYS THE NUMBERS ...  Thursday\n",
       "2  2021-01-28  EXIT THE SYSTEMTHE CEO OF NASDAQ PUSHED TO HAL...  Thursday\n",
       "3  2021-01-28  NEW SEC FILING FOR GME! CAN SOMEONE LESS RETAR...  Thursday\n",
       "4  2021-01-28  NOT TO DISTRACT FROM GME, JUST THOUGHT OUR AMC...  Thursday"
      ]
     },
     "execution_count": 4,
     "metadata": {},
     "output_type": "execute_result"
    }
   ],
   "source": [
    "#replace body n/a with empty string\n",
    "wsb_csv['body'] = wsb_csv['body'].fillna(\"\")\n",
    "\n",
    "#merge title and body together for comprehensive field search\n",
    "wsb_csv['title_body'] = wsb_csv['title'] + wsb_csv['body']\n",
    "\n",
    "#drop unneeded columns\n",
    "wsb_csv.drop(columns=['score', 'id','url','comms_num','created', 'title', 'body'], inplace=True)\n",
    "\n",
    "#convert search field to uppercase to allow desensitize case for searching\n",
    "wsb_csv['title_body'] = wsb_csv['title_body'].str.upper()\n",
    "\n",
    "#drop time from date timestamp\n",
    "wsb_csv['timestamp'] = pd.to_datetime(wsb_csv['timestamp']).dt.date\n",
    "\n",
    "#add weekday to df, need to change timestamp to mirror with stock ticker data\n",
    "wsb_csv['weekday'] = pd.to_datetime(wsb_csv['timestamp']).dt.day_name()\n",
    "\n",
    "wsb_csv.head()"
   ]
  },
  {
   "cell_type": "code",
   "execution_count": null,
   "metadata": {},
   "outputs": [],
   "source": [
    "#create dictionary with term list for each ticker\n",
    "ticker_list = {'AMC': ['AMC'], 'GME': ['GME'], 'CLOV': ['CLOV'], 'BB': ['BB'], 'CLF': ['CLF'], 'CLNE': ['CLNE'],\n",
    "               'WKHS': ['WKHS'], 'SENS': ['SENS'], 'PLTR': ['PLTR'], 'RKT': ['RKT'], 'WWE': ['WWE'], 'FORD': ['FORD']}\n",
    "\n",
    "#loop through dataframe to identify number of mentions for each ticker\n",
    "for ticker, stock_names in ticker_list.items():\n",
    "    for name in stock_names:\n",
    "        wsb_csv[ticker] = wsb_csv['title_body'].str.contains(name).astype(int)\n",
    "\n",
    "wsb_csv.head()"
   ]
  },
  {
   "cell_type": "code",
   "execution_count": null,
   "metadata": {},
   "outputs": [],
   "source": [
    "#group number of mentions by the date mentioned, move date from index to column\n",
    "mentions_by_ticker_df = wsb_csv.groupby([\"timestamp\"]).sum()\n",
    "mentions_by_ticker_df.reset_index(inplace=True)\n",
    "mentions_by_ticker_df['timestamp'] = mentions_by_ticker_df['timestamp'].astype('datetime64[ns]')\n",
    "mentions_by_ticker_df"
   ]
  },
  {
   "cell_type": "code",
   "execution_count": null,
   "metadata": {},
   "outputs": [],
   "source": [
    "#chose list of popular stocks from url = https://memestocks.org\n",
    "\n",
    "#unpivot columns using Pandas melt to consolidate all mentions into one column\n",
    "columns = ['AMC', 'GME', 'CLOV', 'BB', 'CLF', 'CLNE', 'WKHS', 'SENS', 'PLTR', 'RKT', 'WWE', 'FORD']\n",
    "consolidated_mentions = pd.melt(mentions_by_ticker_df, id_vars=['timestamp'], value_vars = columns,\n",
    "                               var_name='ticker', value_name='mention_count')\n",
    "consolidated_mentions"
   ]
  },
  {
   "cell_type": "code",
   "execution_count": null,
   "metadata": {},
   "outputs": [],
   "source": [
    "# delete random September date\n",
    "indexNames = consolidated_mentions[consolidated_mentions['timestamp']=='2020-09-29'].index\n",
    "consolidated_mentions.drop(indexNames, inplace=True)\n",
    "consolidated_mentions.reset_index(drop=True, inplace=True)\n",
    "consolidated_mentions.head()"
   ]
  },
  {
   "cell_type": "code",
   "execution_count": null,
   "metadata": {},
   "outputs": [],
   "source": [
    "# # delete all rows mention count equal to zero\n",
    "# indexNames = consolidated_mentions[consolidated_mentions['mention_count'] ==0].index\n",
    "# consolidated_mentions.drop(indexNames, inplace=True)\n",
    "\n",
    "# #reset the index after dropping zeroes\n",
    "# consolidated_mentions.reset_index(drop=True)\n",
    "\n",
    "# consolidated_mentions.head()"
   ]
  },
  {
   "cell_type": "code",
   "execution_count": null,
   "metadata": {},
   "outputs": [],
   "source": [
    "#add weekday to df, need to change timestamp to mirror with stock ticker data\n",
    "consolidated_mentions['weekday'] = pd.to_datetime(consolidated_mentions['timestamp']).dt.day_name()\n",
    "\n",
    "#create a new column to identify weekends and how many days to add\n",
    "consolidated_mentions[\"days_to_add\"] = 0\n",
    "\n",
    "#add 2 days on Saturday to match to Monday's stock data\n",
    "consolidated_mentions.loc[consolidated_mentions.weekday==\"Saturday\", 'days_to_add'] = 2\n",
    "\n",
    "#add 1 day to Sunday to match to Monday's stock data\n",
    "consolidated_mentions.loc[consolidated_mentions.weekday==\"Sunday\", 'days_to_add'] = 1\n",
    "\n",
    "#add days to holidays stock data\n",
    "consolidated_mentions.loc[consolidated_mentions.timestamp=='2021-02-15', 'days_to_add'] = 1\n",
    "consolidated_mentions.loc[consolidated_mentions.timestamp=='2021-04-02', 'days_to_add'] = 3\n",
    "consolidated_mentions.loc[consolidated_mentions.timestamp=='2021-05-31', 'days_to_add'] = 1\n",
    "\n",
    "#adjust mention date based on days_to_add, this is to line up with the Yahoo Finance data later\n",
    "temp = consolidated_mentions['days_to_add'].apply(np.ceil).apply(lambda x: pd.Timedelta(x, unit='D'))\n",
    "consolidated_mentions['Date'] = consolidated_mentions['timestamp'] + temp\n",
    "\n",
    "#review changes to ensure accuracy\n",
    "consolidated_mentions.groupby('weekday').max('days_to_add')"
   ]
  },
  {
   "cell_type": "code",
   "execution_count": null,
   "metadata": {},
   "outputs": [],
   "source": [
    "total_mentions = consolidated_mentions.groupby(['Date', 'ticker']).sum()\n",
    "total_mentions.reset_index(inplace=True)"
   ]
  },
  {
   "cell_type": "code",
   "execution_count": null,
   "metadata": {},
   "outputs": [],
   "source": [
    "total_mentions.loc[total_mentions['ticker']=='AMC']"
   ]
  },
  {
   "cell_type": "code",
   "execution_count": null,
   "metadata": {},
   "outputs": [],
   "source": [
    "#drop unneeded columns\n",
    "# consolidated_mentions.drop(columns=['timestamp', 'weekday','days_to_add'], inplace=True)\n",
    "\n",
    "total_mentions.head()"
   ]
  },
  {
   "cell_type": "code",
   "execution_count": null,
   "metadata": {},
   "outputs": [],
   "source": [
    "#export mention count from Wallstreet Bets to csv\n",
    "total_mentions.to_csv(\"Stock_Mention_Count.csv\", index = False)"
   ]
  },
  {
   "cell_type": "markdown",
   "metadata": {},
   "source": [
    "# Extract stock ticker close prices from Yahoo Finance"
   ]
  },
  {
   "cell_type": "code",
   "execution_count": null,
   "metadata": {},
   "outputs": [],
   "source": [
    "#download stock ticker data from Jan 1-Jun 1 (same time period as Wallstreet Bets)\n",
    "data = yf.download('GME AMC CLOV BB CLF CLNE WKHS SENS PLTR RKT WWE FORD', start=\"2021-01-28\", end=\"2021-06-01\")\n",
    "data.head()"
   ]
  },
  {
   "cell_type": "code",
   "execution_count": null,
   "metadata": {},
   "outputs": [],
   "source": [
    "#drop columns not needed\n",
    "data.drop(columns=[\"Close\", \"High\", \"Low\", \"Open\", \"Volume\"], inplace=True)\n",
    "data.head()"
   ]
  },
  {
   "cell_type": "code",
   "execution_count": null,
   "metadata": {},
   "outputs": [],
   "source": [
    "data.columns = data.columns.droplevel(0)\n",
    "data.reset_index(inplace=True)\n",
    "data"
   ]
  },
  {
   "cell_type": "code",
   "execution_count": null,
   "metadata": {},
   "outputs": [],
   "source": [
    "#use natural log from numpy to get stock price changes\n",
    "data['AMC_pct_chg']=np.log(data['AMC']/data['AMC'].shift(1))\n",
    "data['BB_pct_chg']=np.log(data['BB']/data['BB'].shift(1))\n",
    "data['CLF_pct_chg']=np.log(data['CLF']/data['CLF'].shift(1))\n",
    "data['CLNE_pct_chg']=np.log(data['CLNE']/data['CLNE'].shift(1))\n",
    "data['CLOV_pct_chg']=np.log(data['CLOV']/data['CLOV'].shift(1))\n",
    "data['FORD_pct_chg']=np.log(data['FORD']/data['FORD'].shift(1))\n",
    "data['GME_pct_chg']=np.log(data['GME']/data['GME'].shift(1))\n",
    "data['PLTR_pct_chg']=np.log(data['PLTR']/data['PLTR'].shift(1))\n",
    "data['RKT_pct_chg']=np.log(data['RKT']/data['RKT'].shift(1))\n",
    "data['SENS_pct_chg']=np.log(data['SENS']/data['SENS'].shift(1))\n",
    "data['WKHS_pct_chg']=np.log(data['WKHS']/data['WKHS'].shift(1))\n",
    "data['WWE_pct_chg']=np.log(data['WWE']/data['WWE'].shift(1))"
   ]
  },
  {
   "cell_type": "code",
   "execution_count": null,
   "metadata": {},
   "outputs": [],
   "source": [
    "#drop unneeded columns with original adjusted close price\n",
    "yf_columns = ['AMC', 'BB', 'CLF', 'CLNE', 'CLOV', 'FORD', 'GME', 'PLTR', 'RKT', 'SENS', 'WKHS', 'WWE']\n",
    "data.drop(columns=yf_columns, inplace=True)"
   ]
  },
  {
   "cell_type": "code",
   "execution_count": null,
   "metadata": {},
   "outputs": [],
   "source": [
    "#unpivot columns using Pandas melt to consolidate all mentions into one column\n",
    "columns = ['AMC_pct_chg', 'BB_pct_chg', 'CLF_pct_chg', 'CLNE_pct_chg', 'CLOV_pct_chg', 'FORD_pct_chg', 'GME_pct_chg',\n",
    "           'PLTR_pct_chg', 'RKT_pct_chg', 'SENS_pct_chg', 'WKHS_pct_chg', 'WWE_pct_chg']\n",
    "consolidated_yf_data = pd.melt(data, id_vars=['Date'], value_vars = columns,\n",
    "                               var_name='ticker', value_name='percent_change')\n",
    "\n",
    "#first day of each ticker data is n/a, replace with zeroes\n",
    "consolidated_yf_data['percent_change'] = consolidated_yf_data['percent_change'].fillna(0)\n",
    "\n",
    "#trim ticker names\n",
    "consolidated_yf_data['ticker']=consolidated_yf_data['ticker'].str.replace('_pct_chg', '')\n",
    "\n",
    "consolidated_yf_data"
   ]
  },
  {
   "cell_type": "code",
   "execution_count": null,
   "metadata": {},
   "outputs": [],
   "source": [
    "#export Yahoo Finance stock price changes to csv\n",
    "consolidated_yf_data.to_csv(\"Stock_Price_Changes.csv\", index = False)"
   ]
  },
  {
   "cell_type": "code",
   "execution_count": null,
   "metadata": {},
   "outputs": [],
   "source": [
    "merged_df = pd.merge(total_mentions, consolidated_yf_data, how=\"outer\", on=[\"Date\", \"ticker\"])\n",
    "merged_df = merged_df[[\"Date\", \"ticker\", \"mention_count\", \"percent_change\"]]\n",
    "merged_df.head()"
   ]
  },
  {
   "cell_type": "code",
   "execution_count": null,
   "metadata": {},
   "outputs": [],
   "source": [
    "#export merged df to csv\n",
    "merged_df.to_csv(\"Callstreet_Bets.csv\", index = False)"
   ]
  }
 ],
 "metadata": {
  "kernelspec": {
   "display_name": "Python 3",
   "language": "python",
   "name": "python3"
  },
  "language_info": {
   "codemirror_mode": {
    "name": "ipython",
    "version": 3
   },
   "file_extension": ".py",
   "mimetype": "text/x-python",
   "name": "python",
   "nbconvert_exporter": "python",
   "pygments_lexer": "ipython3",
   "version": "3.8.5"
  }
 },
 "nbformat": 4,
 "nbformat_minor": 4
}
